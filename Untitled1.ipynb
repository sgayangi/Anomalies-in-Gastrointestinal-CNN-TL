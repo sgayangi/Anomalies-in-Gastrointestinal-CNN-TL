{
 "cells": [
  {
   "cell_type": "code",
   "execution_count": 21,
   "metadata": {},
   "outputs": [],
   "source": [
    "import tensorflow as tf\n",
    "from tensorflow.keras.preprocessing.image import ImageDataGenerator\n",
    "from tensorflow.keras.models import Sequential\n",
    "from tensorflow.keras.layers import Conv2D, MaxPooling2D\n",
    "from tensorflow.keras.layers import Activation, Dropout, Flatten, Dense\n",
    "from tensorflow.keras import backend as K"
   ]
  },
  {
   "cell_type": "code",
   "execution_count": 27,
   "metadata": {},
   "outputs": [],
   "source": [
    "img_width, img_height = 150, 150\n",
    "train_data_dir = '/home/shashimal/Documents/dataset'\n",
    "if K.image_data_format() == 'channels_first':\n",
    "    input_shape = (3, img_width, img_height)\n",
    "    \n",
    "else:\n",
    "    input_shape = (img_width, img_height, 3)\n",
    "    "
   ]
  },
  {
   "cell_type": "code",
   "execution_count": 32,
   "metadata": {},
   "outputs": [],
   "source": [
    "def model(input_shape):\n",
    "    model = tf.keras.Sequential([\n",
    "        tf.keras.layers.Conv2D(filters=24,kernel_size=(3,3),input_shape=input_shape,activation=tf.nn.relu),\n",
    "        tf.keras.layers.MaxPool2D(pool_size=(2,2)),\n",
    "        tf.keras.layers.Conv2D(filters=32,kernel_size=(3,3),activation=tf.nn.relu),\n",
    "        tf.keras.layers.MaxPool2D(pool_size=(2,2)),\n",
    "        tf.keras.layers.Flatten(),\n",
    "        tf.keras.layers.Dense(128,activation=tf.nn.relu),\n",
    "        tf.keras.layers.Dense(8,activation=tf.nn.softmax)\n",
    "        \n",
    "    ])\n",
    "    \n",
    "    return model\n",
    "cnn_model=model(input_shape)"
   ]
  },
  {
   "cell_type": "code",
   "execution_count": 31,
   "metadata": {},
   "outputs": [
    {
     "name": "stdout",
     "output_type": "stream",
     "text": [
      "Model: \"sequential_1\"\n",
      "_________________________________________________________________\n",
      "Layer (type)                 Output Shape              Param #   \n",
      "=================================================================\n",
      "conv2d_2 (Conv2D)            (None, 26, 26, 24)        240       \n",
      "_________________________________________________________________\n",
      "max_pooling2d_2 (MaxPooling2 (None, 13, 13, 24)        0         \n",
      "_________________________________________________________________\n",
      "conv2d_3 (Conv2D)            (None, 11, 11, 32)        6944      \n",
      "_________________________________________________________________\n",
      "max_pooling2d_3 (MaxPooling2 (None, 5, 5, 32)          0         \n",
      "_________________________________________________________________\n",
      "flatten_1 (Flatten)          (None, 800)               0         \n",
      "_________________________________________________________________\n",
      "dense_2 (Dense)              (None, 128)               102528    \n",
      "_________________________________________________________________\n",
      "dense_3 (Dense)              (None, 10)                1290      \n",
      "=================================================================\n",
      "Total params: 111,002\n",
      "Trainable params: 111,002\n",
      "Non-trainable params: 0\n",
      "_________________________________________________________________\n",
      "None\n"
     ]
    }
   ],
   "source": [
    "print(cnn_model.summary())"
   ]
  },
  {
   "cell_type": "code",
   "execution_count": 34,
   "metadata": {},
   "outputs": [],
   "source": [
    "cnn_model.compile(loss=tf.keras.losses.categorical_crossentropy,\n",
    "              optimizer=tf.keras.optimizers.Adadelta(),\n",
    "              metrics=['accuracy'])"
   ]
  },
  {
   "cell_type": "code",
   "execution_count": 35,
   "metadata": {},
   "outputs": [],
   "source": [
    "\n",
    "train_datagen = ImageDataGenerator(\n",
    "    rescale=1. / 255,\n",
    "    shear_range=0.2,\n",
    "    zoom_range=0.2,\n",
    "    horizontal_flip=True)"
   ]
  },
  {
   "cell_type": "code",
   "execution_count": 43,
   "metadata": {},
   "outputs": [
    {
     "name": "stdout",
     "output_type": "stream",
     "text": [
      "Found 8000 images belonging to 8 classes.\n"
     ]
    }
   ],
   "source": [
    "train_generator = train_datagen.flow_from_directory(\n",
    "    train_data_dir,\n",
    "    target_size=(img_width, img_height),\n",
    "    batch_size=64,\n",
    "    class_mode='categorical')"
   ]
  },
  {
   "cell_type": "code",
   "execution_count": 44,
   "metadata": {},
   "outputs": [],
   "source": [
    "labels = (train_generator.class_indices)"
   ]
  },
  {
   "cell_type": "code",
   "execution_count": 45,
   "metadata": {},
   "outputs": [
    {
     "name": "stdout",
     "output_type": "stream",
     "text": [
      "{'dyed-lifted-polyps': 0, 'dyed-resection-margins': 1, 'esophagitis': 2, 'normal-cecum': 3, 'normal-pylorus': 4, 'normal-z-line': 5, 'polyps': 6, 'ulcerative-colitis': 7}\n"
     ]
    }
   ],
   "source": [
    "print(labels)"
   ]
  },
  {
   "cell_type": "code",
   "execution_count": 46,
   "metadata": {},
   "outputs": [
    {
     "name": "stdout",
     "output_type": "stream",
     "text": [
      "Epoch 1/10\n",
      "125/125 [==============================] - 222s 2s/step - loss: 2.0415 - acc: 0.2054\n",
      "Epoch 2/10\n",
      "125/125 [==============================] - 226s 2s/step - loss: 1.9785 - acc: 0.3004\n",
      "Epoch 3/10\n",
      "125/125 [==============================] - 227s 2s/step - loss: 1.9260 - acc: 0.3643\n",
      "Epoch 4/10\n",
      "125/125 [==============================] - 226s 2s/step - loss: 1.8665 - acc: 0.4119\n",
      "Epoch 5/10\n",
      "125/125 [==============================] - 232s 2s/step - loss: 1.8073 - acc: 0.4350\n",
      "Epoch 6/10\n",
      "125/125 [==============================] - 228s 2s/step - loss: 1.7487 - acc: 0.4575\n",
      "Epoch 7/10\n",
      "125/125 [==============================] - 228s 2s/step - loss: 1.6890 - acc: 0.4790\n",
      "Epoch 8/10\n",
      "125/125 [==============================] - 228s 2s/step - loss: 1.6312 - acc: 0.4936\n",
      "Epoch 9/10\n",
      "125/125 [==============================] - 229s 2s/step - loss: 1.5789 - acc: 0.5196\n",
      "Epoch 10/10\n",
      "125/125 [==============================] - 228s 2s/step - loss: 1.5321 - acc: 0.5179\n"
     ]
    },
    {
     "data": {
      "text/plain": [
       "<tensorflow.python.keras.callbacks.History at 0x7f1634ef4550>"
      ]
     },
     "execution_count": 46,
     "metadata": {},
     "output_type": "execute_result"
    }
   ],
   "source": [
    "cnn_model.fit_generator(generator=train_generator,\n",
    "                    steps_per_epoch=train_generator.n//train_generator.batch_size,\n",
    "\n",
    "                    epochs=10\n",
    ")"
   ]
  },
  {
   "cell_type": "code",
   "execution_count": 48,
   "metadata": {},
   "outputs": [],
   "source": [
    "import pickle\n",
    "import numpy as np\n",
    "from pathlib import Path"
   ]
  },
  {
   "cell_type": "code",
   "execution_count": 49,
   "metadata": {},
   "outputs": [],
   "source": [
    "data_dir = Path('/home/shashimal/Documents/dataset')\n"
   ]
  },
  {
   "cell_type": "code",
   "execution_count": 50,
   "metadata": {},
   "outputs": [],
   "source": [
    "def unpickle(file):\n",
    "    with open(file, \"rb\") as fo:\n",
    "        dict = pickle.load(fo, encoding=\"bytes\")\n",
    "    return dict"
   ]
  },
  {
   "cell_type": "code",
   "execution_count": 51,
   "metadata": {},
   "outputs": [
    {
     "name": "stdout",
     "output_type": "stream",
     "text": [
      "Loaded CIFAR-10 training set:\n",
      " - np.shape(images)     (0,)\n",
      " - np.shape(labels)     (0,)\n"
     ]
    }
   ],
   "source": [
    "images, labels = [], []\n",
    "for batch in data_dir.glob(\"data_batch_*\"):\n",
    "    batch_data = unpickle(batch)\n",
    "    for i, flat_im in enumerate(batch_data[b\"data\"]):\n",
    "        im_channels = []\n",
    "        # Each image is flattened, with channels in order of R, G, B\n",
    "        for j in range(3):\n",
    "            im_channels.append(\n",
    "                flat_im[j * 1024 : (j + 1) * 1024].reshape((32, 32))\n",
    "            )\n",
    "        # Reconstruct the original image\n",
    "        images.append(np.dstack((im_channels)))\n",
    "        # Save the label\n",
    "        labels.append(batch_data[b\"labels\"][i])\n",
    "\n",
    "print(\"Loaded CIFAR-10 training set:\")\n",
    "print(f\" - np.shape(images)     {np.shape(images)}\")\n",
    "print(f\" - np.shape(labels)     {np.shape(labels)}\")"
   ]
  },
  {
   "cell_type": "code",
   "execution_count": 52,
   "metadata": {},
   "outputs": [
    {
     "name": "stdout",
     "output_type": "stream",
     "text": [
      "[]\n"
     ]
    }
   ],
   "source": [
    "print(images)"
   ]
  },
  {
   "cell_type": "code",
   "execution_count": null,
   "metadata": {},
   "outputs": [],
   "source": []
  }
 ],
 "metadata": {
  "kernelspec": {
   "display_name": "Python 3",
   "language": "python",
   "name": "python3"
  },
  "language_info": {
   "codemirror_mode": {
    "name": "ipython",
    "version": 3
   },
   "file_extension": ".py",
   "mimetype": "text/x-python",
   "name": "python",
   "nbconvert_exporter": "python",
   "pygments_lexer": "ipython3",
   "version": "3.7.3"
  }
 },
 "nbformat": 4,
 "nbformat_minor": 2
}
