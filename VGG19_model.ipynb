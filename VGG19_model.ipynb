{
  "nbformat": 4,
  "nbformat_minor": 0,
  "metadata": {
    "kernelspec": {
      "display_name": "Python 3",
      "language": "python",
      "name": "python3"
    },
    "language_info": {
      "codemirror_mode": {
        "name": "ipython",
        "version": 3
      },
      "file_extension": ".py",
      "mimetype": "text/x-python",
      "name": "python",
      "nbconvert_exporter": "python",
      "pygments_lexer": "ipython3",
      "version": "3.7.6"
    },
    "colab": {
      "name": "VGG19 model.ipynb",
      "provenance": [],
      "collapsed_sections": [],
      "include_colab_link": true
    },
    "accelerator": "GPU"
  },
  "cells": [
    {
      "cell_type": "markdown",
      "metadata": {
        "id": "view-in-github",
        "colab_type": "text"
      },
      "source": [
        "<a href=\"https://colab.research.google.com/github/sgayangi/Anomalies-in-Gastrointestinal-CNN-TL/blob/master/VGG19_model.ipynb\" target=\"_parent\"><img src=\"https://colab.research.google.com/assets/colab-badge.svg\" alt=\"Open In Colab\"/></a>"
      ]
    },
    {
      "cell_type": "code",
      "metadata": {
        "id": "2nKlPU9sbLGI"
      },
      "source": [
        "\n",
        "import cv2\n",
        "import matplotlib.pyplot as plt\n",
        "import os\n",
        "import numpy as np\n",
        "import tensorflow as tf\n",
        "from tensorflow.keras import applications\n",
        "from tensorflow.keras import optimizers"
      ],
      "execution_count": 1,
      "outputs": []
    },
    {
      "cell_type": "code",
      "metadata": {
        "colab": {
          "base_uri": "https://localhost:8080/"
        },
        "id": "NeGb_j4YtqEp",
        "outputId": "e07e6c06-017d-4a3a-f877-552fdba87a72"
      },
      "source": [
        "!wget --no-check-certificate \\\r\n",
        "  https://datasets.simula.no/kvasir/data/kvasir-dataset-v2-folds-features.zip\\\r\n",
        "  -O /tmp/kvasir-dataset-v2-features.zip"
      ],
      "execution_count": 2,
      "outputs": [
        {
          "output_type": "stream",
          "text": [
            "--2021-03-06 08:53:30--  https://datasets.simula.no/kvasir/data/kvasir-dataset-v2-folds-features.zip\n",
            "Resolving datasets.simula.no (datasets.simula.no)... 128.39.36.14\n",
            "Connecting to datasets.simula.no (datasets.simula.no)|128.39.36.14|:443... connected.\n",
            "HTTP request sent, awaiting response... 200 OK\n",
            "Length: 98573500 (94M) [application/zip]\n",
            "Saving to: ‘/tmp/kvasir-dataset-v2-features.zip’\n",
            "\n",
            "/tmp/kvasir-dataset 100%[===================>]  94.01M  5.78MB/s    in 16s     \n",
            "\n",
            "2021-03-06 08:53:47 (5.90 MB/s) - ‘/tmp/kvasir-dataset-v2-features.zip’ saved [98573500/98573500]\n",
            "\n"
          ],
          "name": "stdout"
        }
      ]
    },
    {
      "cell_type": "code",
      "metadata": {
        "colab": {
          "base_uri": "https://localhost:8080/"
        },
        "id": "4hW7VawDvAN7",
        "outputId": "5512d962-c89e-4c9e-c699-daff0b8d0cc2"
      },
      "source": [
        "!wget --no-check-certificate \\\r\n",
        "  https://datasets.simula.no/kvasir/data/kvasir-dataset-v2.zip\\\r\n",
        "  -O /tmp/kvasir-dataset-v2.zip"
      ],
      "execution_count": 3,
      "outputs": [
        {
          "output_type": "stream",
          "text": [
            "--2021-03-06 08:53:47--  https://datasets.simula.no/kvasir/data/kvasir-dataset-v2.zip\n",
            "Resolving datasets.simula.no (datasets.simula.no)... 128.39.36.14\n",
            "Connecting to datasets.simula.no (datasets.simula.no)|128.39.36.14|:443... connected.\n",
            "HTTP request sent, awaiting response... 200 OK\n",
            "Length: 2489312085 (2.3G) [application/zip]\n",
            "Saving to: ‘/tmp/kvasir-dataset-v2.zip’\n",
            "\n",
            "/tmp/kvasir-dataset 100%[===================>]   2.32G  4.05MB/s    in 11m 36s \n",
            "\n",
            "2021-03-06 09:05:24 (3.41 MB/s) - ‘/tmp/kvasir-dataset-v2.zip’ saved [2489312085/2489312085]\n",
            "\n"
          ],
          "name": "stdout"
        }
      ]
    },
    {
      "cell_type": "code",
      "metadata": {
        "id": "yYp4_ruabLG2"
      },
      "source": [
        "datadir='/tmp/kvasir-dataset-v2'\n",
        "categories = ['dyed-lifted-polyps','dyed-resection-margins','esophagitis',\n",
        "             'normal-cecum','normal-pylorus','normal-z-line','polyps','ulcerative-colitis']"
      ],
      "execution_count": 4,
      "outputs": []
    },
    {
      "cell_type": "code",
      "metadata": {
        "id": "5fZljmwTw_Tg"
      },
      "source": [
        "import os\r\n",
        "import zipfile\r\n",
        "\r\n",
        "local_zip = '/tmp/kvasir-dataset-v2.zip'\r\n",
        "\r\n",
        "zip_ref = zipfile.ZipFile(local_zip, 'r')\r\n",
        "\r\n",
        "zip_ref.extractall('/tmp')\r\n",
        "zip_ref.close()"
      ],
      "execution_count": 5,
      "outputs": []
    },
    {
      "cell_type": "code",
      "metadata": {
        "id": "BAOs7uWebLG7"
      },
      "source": [
        "training_data=[]\n",
        "def create_training_data():\n",
        "    for category in categories:\n",
        "        path = os.path.join(datadir,category)\n",
        "        class_num = categories.index(category)\n",
        "        for img in os.listdir(path):\n",
        "            try:\n",
        "                img_array = cv2.imread(os.path.join(path,img))\n",
        "                new_array = cv2.resize(img_array,(224,224))\n",
        "                training_data.append([new_array,class_num])\n",
        "            except Exception as e:    \n",
        "                pass\n",
        "create_training_data()"
      ],
      "execution_count": 6,
      "outputs": []
    },
    {
      "cell_type": "code",
      "metadata": {
        "colab": {
          "base_uri": "https://localhost:8080/"
        },
        "id": "gkNQAWc4bLHB",
        "outputId": "e1ce46cc-1dc5-49ce-8e64-b637a33a2608"
      },
      "source": [
        "y=[]\n",
        "x=[]\n",
        "\n",
        "for features,label in training_data:\n",
        "    x.append(features)\n",
        "    y.append(label)\n",
        "x = np.array(x)\n",
        "print(x.shape)"
      ],
      "execution_count": 7,
      "outputs": [
        {
          "output_type": "stream",
          "text": [
            "(8000, 224, 224, 3)\n"
          ],
          "name": "stdout"
        }
      ]
    },
    {
      "cell_type": "code",
      "metadata": {
        "id": "F5pKdaYibLHH"
      },
      "source": [
        "from sklearn.model_selection import train_test_split\n",
        "x_train,x_test,y_train,y_test = train_test_split(x,y,test_size=0.3,random_state=42)"
      ],
      "execution_count": 8,
      "outputs": []
    },
    {
      "cell_type": "code",
      "metadata": {
        "id": "ptLtV3AkbLHI"
      },
      "source": [
        "x_train=np.array(x_train, dtype=np.float32)\n",
        "x_test=np.array(x_test, dtype=np.float32)\n",
        "x_train/=255.0\n",
        "x_test/=255.0"
      ],
      "execution_count": 9,
      "outputs": []
    },
    {
      "cell_type": "code",
      "metadata": {
        "id": "wSeyr-5HbLHI"
      },
      "source": [
        "y_train = tf.keras.utils.to_categorical(y_train, 8)\n",
        "y_test = tf.keras.utils.to_categorical(y_test, 8)"
      ],
      "execution_count": 10,
      "outputs": []
    },
    {
      "cell_type": "code",
      "metadata": {
        "id": "tLZ2-FMnbLHJ",
        "colab": {
          "base_uri": "https://localhost:8080/"
        },
        "outputId": "067b6a28-420a-4c28-a27b-07e74cdb1068"
      },
      "source": [
        "# local_weights_file = '/tmp/kvasir-cnn-v1.1.h5'\r\n",
        "# new_model = tf.keras.models.load_model(local_weights_file)\r\n",
        "\r\n",
        "model = applications.VGG19(weights = \"imagenet\", include_top=False, input_shape = (224, 224, 3))"
      ],
      "execution_count": 11,
      "outputs": [
        {
          "output_type": "stream",
          "text": [
            "Downloading data from https://storage.googleapis.com/tensorflow/keras-applications/vgg19/vgg19_weights_tf_dim_ordering_tf_kernels_notop.h5\n",
            "80142336/80134624 [==============================] - 0s 0us/step\n"
          ],
          "name": "stdout"
        }
      ]
    },
    {
      "cell_type": "code",
      "metadata": {
        "id": "YyTxqR3KbLHK"
      },
      "source": [
        "for layer in model.layers[:30]:\n",
        "    layer.trainable = True\n",
        "x = model.output\n",
        "x =  tf.keras.layers.Flatten()(x)\n",
        "x = tf.keras.layers.Dense(1024, activation=\"relu\")(x)\n",
        "x = tf.keras.layers.Dropout(0.5)(x)\n",
        "x = tf.keras.layers.Dense(1024, activation=\"relu\")(x)\n",
        "predictions = tf.keras.layers.Dense(8, activation=\"softmax\")(x)   \n",
        "model_final = tf.keras.models.Model(model.input,predictions)\n",
        "model_final.compile(loss = \"categorical_crossentropy\", optimizer = optimizers.SGD(lr=0.0001, momentum=0.9), metrics=[\"accuracy\"])"
      ],
      "execution_count": 12,
      "outputs": []
    },
    {
      "cell_type": "code",
      "metadata": {
        "id": "xDIaEJfIbLHL",
        "colab": {
          "base_uri": "https://localhost:8080/"
        },
        "outputId": "b6a53509-dfb8-4cc8-a022-e1136178bac9"
      },
      "source": [
        "history=model_final.fit(x_train, y_train,\n",
        "          batch_size=32,\n",
        "          epochs=50,\n",
        "          verbose=1,\n",
        "          validation_data=(x_test, y_test))"
      ],
      "execution_count": 13,
      "outputs": [
        {
          "output_type": "stream",
          "text": [
            "Epoch 1/50\n",
            "175/175 [==============================] - 134s 529ms/step - loss: 1.8147 - accuracy: 0.2852 - val_loss: 0.7627 - val_accuracy: 0.6858\n",
            "Epoch 2/50\n",
            "175/175 [==============================] - 98s 560ms/step - loss: 0.7980 - accuracy: 0.6697 - val_loss: 0.5005 - val_accuracy: 0.8067\n",
            "Epoch 3/50\n",
            "175/175 [==============================] - 98s 558ms/step - loss: 0.5373 - accuracy: 0.7929 - val_loss: 0.4791 - val_accuracy: 0.8100\n",
            "Epoch 4/50\n",
            "175/175 [==============================] - 98s 562ms/step - loss: 0.4388 - accuracy: 0.8329 - val_loss: 0.4487 - val_accuracy: 0.8238\n",
            "Epoch 5/50\n",
            "175/175 [==============================] - 98s 561ms/step - loss: 0.3789 - accuracy: 0.8536 - val_loss: 0.3764 - val_accuracy: 0.8550\n",
            "Epoch 6/50\n",
            "175/175 [==============================] - 98s 561ms/step - loss: 0.3170 - accuracy: 0.8714 - val_loss: 0.3293 - val_accuracy: 0.8658\n",
            "Epoch 7/50\n",
            "175/175 [==============================] - 98s 561ms/step - loss: 0.2714 - accuracy: 0.8930 - val_loss: 0.3358 - val_accuracy: 0.8737\n",
            "Epoch 8/50\n",
            "175/175 [==============================] - 98s 561ms/step - loss: 0.2382 - accuracy: 0.9076 - val_loss: 0.3669 - val_accuracy: 0.8650\n",
            "Epoch 9/50\n",
            "175/175 [==============================] - 98s 560ms/step - loss: 0.2319 - accuracy: 0.9133 - val_loss: 0.2888 - val_accuracy: 0.8867\n",
            "Epoch 10/50\n",
            "175/175 [==============================] - 98s 561ms/step - loss: 0.2174 - accuracy: 0.9130 - val_loss: 0.2910 - val_accuracy: 0.8925\n",
            "Epoch 11/50\n",
            "175/175 [==============================] - 98s 562ms/step - loss: 0.1996 - accuracy: 0.9146 - val_loss: 0.2933 - val_accuracy: 0.8867\n",
            "Epoch 12/50\n",
            "175/175 [==============================] - 98s 561ms/step - loss: 0.1704 - accuracy: 0.9339 - val_loss: 0.2935 - val_accuracy: 0.8883\n",
            "Epoch 13/50\n",
            "175/175 [==============================] - 98s 562ms/step - loss: 0.1539 - accuracy: 0.9418 - val_loss: 0.3822 - val_accuracy: 0.8737\n",
            "Epoch 14/50\n",
            "175/175 [==============================] - 98s 562ms/step - loss: 0.1381 - accuracy: 0.9491 - val_loss: 0.3073 - val_accuracy: 0.8938\n",
            "Epoch 15/50\n",
            "175/175 [==============================] - 98s 562ms/step - loss: 0.1352 - accuracy: 0.9479 - val_loss: 0.2982 - val_accuracy: 0.8983\n",
            "Epoch 16/50\n",
            "175/175 [==============================] - 98s 563ms/step - loss: 0.1147 - accuracy: 0.9566 - val_loss: 0.3151 - val_accuracy: 0.8908\n",
            "Epoch 17/50\n",
            "175/175 [==============================] - 98s 561ms/step - loss: 0.1099 - accuracy: 0.9591 - val_loss: 0.3148 - val_accuracy: 0.8938\n",
            "Epoch 18/50\n",
            "175/175 [==============================] - 98s 563ms/step - loss: 0.0926 - accuracy: 0.9664 - val_loss: 0.3099 - val_accuracy: 0.8933\n",
            "Epoch 19/50\n",
            "175/175 [==============================] - 99s 564ms/step - loss: 0.0930 - accuracy: 0.9688 - val_loss: 0.3585 - val_accuracy: 0.8838\n",
            "Epoch 20/50\n",
            "175/175 [==============================] - 98s 563ms/step - loss: 0.0866 - accuracy: 0.9658 - val_loss: 0.3236 - val_accuracy: 0.8971\n",
            "Epoch 21/50\n",
            "175/175 [==============================] - 98s 562ms/step - loss: 0.0849 - accuracy: 0.9661 - val_loss: 0.3460 - val_accuracy: 0.8888\n",
            "Epoch 22/50\n",
            "175/175 [==============================] - 98s 562ms/step - loss: 0.0703 - accuracy: 0.9725 - val_loss: 0.3223 - val_accuracy: 0.8938\n",
            "Epoch 23/50\n",
            "175/175 [==============================] - 98s 561ms/step - loss: 0.0857 - accuracy: 0.9670 - val_loss: 0.3876 - val_accuracy: 0.8896\n",
            "Epoch 24/50\n",
            "175/175 [==============================] - 98s 562ms/step - loss: 0.0599 - accuracy: 0.9790 - val_loss: 0.4083 - val_accuracy: 0.8963\n",
            "Epoch 25/50\n",
            "175/175 [==============================] - 98s 563ms/step - loss: 0.0687 - accuracy: 0.9719 - val_loss: 0.3468 - val_accuracy: 0.8996\n",
            "Epoch 26/50\n",
            "175/175 [==============================] - 99s 563ms/step - loss: 0.0614 - accuracy: 0.9795 - val_loss: 0.3770 - val_accuracy: 0.8963\n",
            "Epoch 27/50\n",
            "175/175 [==============================] - 98s 563ms/step - loss: 0.0548 - accuracy: 0.9790 - val_loss: 0.3431 - val_accuracy: 0.8988\n",
            "Epoch 28/50\n",
            "175/175 [==============================] - 98s 562ms/step - loss: 0.0428 - accuracy: 0.9852 - val_loss: 0.3873 - val_accuracy: 0.9025\n",
            "Epoch 29/50\n",
            "175/175 [==============================] - 98s 563ms/step - loss: 0.0456 - accuracy: 0.9832 - val_loss: 0.3544 - val_accuracy: 0.9042\n",
            "Epoch 30/50\n",
            "175/175 [==============================] - 98s 563ms/step - loss: 0.0261 - accuracy: 0.9929 - val_loss: 0.3902 - val_accuracy: 0.9000\n",
            "Epoch 31/50\n",
            "175/175 [==============================] - 98s 562ms/step - loss: 0.0262 - accuracy: 0.9905 - val_loss: 0.3804 - val_accuracy: 0.9046\n",
            "Epoch 32/50\n",
            "175/175 [==============================] - 98s 563ms/step - loss: 0.0302 - accuracy: 0.9887 - val_loss: 0.4217 - val_accuracy: 0.9029\n",
            "Epoch 33/50\n",
            "175/175 [==============================] - 98s 563ms/step - loss: 0.0218 - accuracy: 0.9929 - val_loss: 0.4308 - val_accuracy: 0.8942\n",
            "Epoch 34/50\n",
            "175/175 [==============================] - 99s 563ms/step - loss: 0.0189 - accuracy: 0.9938 - val_loss: 0.4185 - val_accuracy: 0.8983\n",
            "Epoch 35/50\n",
            "175/175 [==============================] - 99s 564ms/step - loss: 0.0296 - accuracy: 0.9894 - val_loss: 0.4478 - val_accuracy: 0.8950\n",
            "Epoch 36/50\n",
            "175/175 [==============================] - 99s 565ms/step - loss: 0.0208 - accuracy: 0.9928 - val_loss: 0.4084 - val_accuracy: 0.9008\n",
            "Epoch 37/50\n",
            "175/175 [==============================] - 99s 565ms/step - loss: 0.0242 - accuracy: 0.9915 - val_loss: 0.4211 - val_accuracy: 0.8967\n",
            "Epoch 38/50\n",
            "175/175 [==============================] - 99s 564ms/step - loss: 0.0224 - accuracy: 0.9936 - val_loss: 0.4569 - val_accuracy: 0.8904\n",
            "Epoch 39/50\n",
            "175/175 [==============================] - 99s 564ms/step - loss: 0.0176 - accuracy: 0.9954 - val_loss: 0.4418 - val_accuracy: 0.9042\n",
            "Epoch 40/50\n",
            "175/175 [==============================] - 99s 564ms/step - loss: 0.0156 - accuracy: 0.9925 - val_loss: 0.5534 - val_accuracy: 0.8721\n",
            "Epoch 41/50\n",
            "175/175 [==============================] - 98s 563ms/step - loss: 0.0253 - accuracy: 0.9926 - val_loss: 0.4459 - val_accuracy: 0.8917\n",
            "Epoch 42/50\n",
            "175/175 [==============================] - 98s 563ms/step - loss: 0.0125 - accuracy: 0.9977 - val_loss: 0.4459 - val_accuracy: 0.9004\n",
            "Epoch 43/50\n",
            "175/175 [==============================] - 99s 564ms/step - loss: 0.0136 - accuracy: 0.9944 - val_loss: 0.5162 - val_accuracy: 0.8963\n",
            "Epoch 44/50\n",
            "175/175 [==============================] - 98s 562ms/step - loss: 0.0083 - accuracy: 0.9982 - val_loss: 0.4896 - val_accuracy: 0.9013\n",
            "Epoch 45/50\n",
            "175/175 [==============================] - 99s 565ms/step - loss: 0.0167 - accuracy: 0.9942 - val_loss: 0.4770 - val_accuracy: 0.9021\n",
            "Epoch 46/50\n",
            "175/175 [==============================] - 99s 564ms/step - loss: 0.0109 - accuracy: 0.9971 - val_loss: 0.4708 - val_accuracy: 0.8992\n",
            "Epoch 47/50\n",
            "175/175 [==============================] - 99s 564ms/step - loss: 0.0094 - accuracy: 0.9975 - val_loss: 0.5531 - val_accuracy: 0.8929\n",
            "Epoch 48/50\n",
            "175/175 [==============================] - 99s 564ms/step - loss: 0.0079 - accuracy: 0.9982 - val_loss: 0.5255 - val_accuracy: 0.8958\n",
            "Epoch 49/50\n",
            "175/175 [==============================] - 99s 565ms/step - loss: 0.0064 - accuracy: 0.9988 - val_loss: 0.4969 - val_accuracy: 0.9096\n",
            "Epoch 50/50\n",
            "175/175 [==============================] - 98s 563ms/step - loss: 0.0116 - accuracy: 0.9967 - val_loss: 0.4657 - val_accuracy: 0.9058\n"
          ],
          "name": "stdout"
        }
      ]
    },
    {
      "cell_type": "code",
      "metadata": {
        "id": "o4MVDAV0bLHN",
        "colab": {
          "base_uri": "https://localhost:8080/",
          "height": 298
        },
        "outputId": "3ed7fb3d-3cd9-4a83-c26d-fca219dcc417"
      },
      "source": [
        "model.save('vgg-19-model-weights-v2.h5')\r\n",
        "\r\n",
        "import matplotlib.pyplot as plt\r\n",
        "acc = history.history['accuracy']\r\n",
        "val_acc = history.history['val_accuracy']\r\n",
        "loss = history.history['loss']\r\n",
        "val_loss = history.history['val_loss']\r\n",
        "\r\n",
        "epochs = range(len(acc))\r\n",
        "\r\n",
        "plt.plot(epochs, acc, 'r', label='Training accuracy')\r\n",
        "plt.plot(epochs, val_acc, 'b', label='Validation accuracy')\r\n",
        "plt.title('Training and validation accuracy')\r\n",
        "plt.legend(loc=0)\r\n",
        "plt.figure()\r\n",
        "\r\n",
        "\r\n",
        "plt.show()"
      ],
      "execution_count": 15,
      "outputs": [
        {
          "output_type": "display_data",
          "data": {
            "image/png": "[encoded data removed]",
            "text/plain": [
              "<Figure size 432x288 with 1 Axes>"
            ]
          },
          "metadata": {
            "tags": [],
            "needs_background": "light"
          }
        },
        {
          "output_type": "display_data",
          "data": {
            "text/plain": [
              "<Figure size 432x288 with 0 Axes>"
            ]
          },
          "metadata": {
            "tags": []
          }
        }
      ]
    }
  ]
}