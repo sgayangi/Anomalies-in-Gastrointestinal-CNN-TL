{
 "cells": [
  {
   "cell_type": "code",
   "execution_count": 1,
   "metadata": {},
   "outputs": [],
   "source": [
    "import cv2\n",
    "import matplotlib.pyplot as plt\n",
    "import os\n",
    "import numpy as np\n",
    "import tensorflow as tf\n",
    "import tensorflowjs as tfjs\n",
    "from tensorflow.keras import applications\n",
    "from tensorflow.keras import optimizers"
   ]
  },
  {
   "cell_type": "code",
   "execution_count": 2,
   "metadata": {},
   "outputs": [],
   "source": [
    "datadir='/home/shashimal/Documents/dataset'\n",
    "categories = ['dyed-lifted-polyps','dyed-resection-margins','esophagitis',\n",
    "             'normal-cecum','normal-pylorus','normal-z-line','polyps','ulcerative-colitis']"
   ]
  },
  {
   "cell_type": "code",
   "execution_count": 3,
   "metadata": {},
   "outputs": [],
   "source": [
    "training_data=[]\n",
    "def create_training_data():\n",
    "    for category in categories:\n",
    "        path = os.path.join(datadir,category)\n",
    "        class_num = categories.index(category)\n",
    "        for img in os.listdir(path):\n",
    "            try:\n",
    "                img_array = cv2.imread(os.path.join(path,img))\n",
    "                new_array = cv2.resize(img_array,(96,96))\n",
    "#                 crop_array = new_array[0:96,35:96]\n",
    "                training_data.append([new_array,class_num])\n",
    "            except Exception as e:    \n",
    "                pass\n",
    "create_training_data() "
   ]
  },
  {
   "cell_type": "code",
   "execution_count": 4,
   "metadata": {},
   "outputs": [
    {
     "data": {
      "text/plain": [
       "(8000, 96, 96, 3)"
      ]
     },
     "execution_count": 4,
     "metadata": {},
     "output_type": "execute_result"
    }
   ],
   "source": [
    "x=[]\n",
    "y=[]\n",
    "\n",
    "for features,label in training_data:\n",
    "    x.append(features)\n",
    "    y.append(label)\n",
    "x = np.array(x).reshape(8000,96,96,3)\n",
    "x.shape"
   ]
  },
  {
   "cell_type": "code",
   "execution_count": 5,
   "metadata": {},
   "outputs": [],
   "source": [
    "from sklearn.model_selection import train_test_split\n",
    "x_train,x_test,y_train,y_test = train_test_split(x,y,test_size=0.2,random_state=42)"
   ]
  },
  {
   "cell_type": "code",
   "execution_count": 6,
   "metadata": {},
   "outputs": [],
   "source": [
    "x_train=x_train.astype('float32')\n",
    "x_test=x_test.astype('float32')\n",
    "x_train/=255\n",
    "x_test/=255"
   ]
  },
  {
   "cell_type": "code",
   "execution_count": 7,
   "metadata": {},
   "outputs": [],
   "source": [
    "y_train = tf.keras.utils.to_categorical(y_train, 8)\n",
    "y_test = tf.keras.utils.to_categorical(y_test, 8)"
   ]
  },
  {
   "cell_type": "code",
   "execution_count": 9,
   "metadata": {},
   "outputs": [],
   "source": [
    "model1 = applications.VGG19(weights = \"imagenet\", include_top=False, input_shape = (96, 96, 3))\n",
    "model2 = applications.inception_v3.InceptionV3(weights = \"imagenet\", include_top=False, input_shape = (96, 96, 3))"
   ]
  },
  {
   "cell_type": "code",
   "execution_count": 22,
   "metadata": {},
   "outputs": [],
   "source": [
    "for layer in model1.layers[:20]:\n",
    "    layer.trainable = False\n",
    "x1 = model1.output\n",
    "x1 =  tf.keras.layers.Flatten()(x)\n",
    "# x1 = tf.keras.layers.Dense(1024, activation=\"relu\")(x)\n",
    "# x1 = tf.keras.layers.Dropout(0.5)(x)\n",
    "# x1 = tf.keras.layers.Dense(1024, activation=\"relu\")(x)\n"
   ]
  },
  {
   "cell_type": "code",
   "execution_count": 28,
   "metadata": {},
   "outputs": [],
   "source": [
    "for layer in model2.layers[:150]:\n",
    "    layer.trainable = False\n",
    "x2 = model2.output\n",
    "x2 =  tf.keras.layers.Flatten()(x)\n",
    "# x2 = tf.keras.layers.Dense(1024, activation=\"relu\")(x)\n",
    "# x2 = tf.keras.layers.Dropout(0.5)(x)\n",
    "# x2 = tf.keras.layers.Dense(1024, activation=\"relu\")(x)"
   ]
  },
  {
   "cell_type": "code",
   "execution_count": 29,
   "metadata": {},
   "outputs": [],
   "source": [
    "concatenated = tf.keras.layers.concatenate([x1,x2])\n",
    "out=tf.keras.layers.Flatten()(concatenated)"
   ]
  },
  {
   "cell_type": "code",
   "execution_count": 30,
   "metadata": {},
   "outputs": [],
   "source": [
    "\n",
    "x = tf.keras.layers.Dense(1024, activation=\"relu\")(out)\n",
    "x = tf.keras.layers.Dropout(0.5)(x)\n",
    "x = tf.keras.layers.Dense(1024, activation=\"relu\")(x)\n",
    "predictions = tf.keras.layers.Dense(8, activation=\"softmax\")(x)   \n",
    "model_final = tf.keras.models.Model(model1.input,predictions)\n",
    "model_final.compile(loss = \"categorical_crossentropy\", optimizer = optimizers.SGD(lr=0.0001, momentum=0.9), metrics=[\"accuracy\"])\n"
   ]
  },
  {
   "cell_type": "code",
   "execution_count": 31,
   "metadata": {},
   "outputs": [
    {
     "name": "stdout",
     "output_type": "stream",
     "text": [
      "Train on 6400 samples, validate on 1600 samples\n",
      "Epoch 1/5\n",
      "6400/6400 [==============================] - 662s 103ms/sample - loss: 2.1084 - acc: 0.1363 - val_loss: 2.0034 - val_acc: 0.2894\n",
      "Epoch 2/5\n",
      "6400/6400 [==============================] - 597s 93ms/sample - loss: 2.0213 - acc: 0.1969 - val_loss: 1.9037 - val_acc: 0.2956\n",
      "Epoch 3/5\n",
      "6400/6400 [==============================] - 542s 85ms/sample - loss: 1.9480 - acc: 0.2472 - val_loss: 1.7918 - val_acc: 0.3319\n",
      "Epoch 4/5\n",
      "6400/6400 [==============================] - 538s 84ms/sample - loss: 1.8528 - acc: 0.2952 - val_loss: 1.6586 - val_acc: 0.4050\n",
      "Epoch 5/5\n",
      "6400/6400 [==============================] - 538s 84ms/sample - loss: 1.7476 - acc: 0.3278 - val_loss: 1.5334 - val_acc: 0.3969\n"
     ]
    }
   ],
   "source": [
    "history=model_final.fit(x_train, y_train,\n",
    "          batch_size=64,\n",
    "          epochs=5,\n",
    "          verbose=1,\n",
    "          validation_data=(x_test, y_test))"
   ]
  },
  {
   "cell_type": "code",
   "execution_count": 32,
   "metadata": {},
   "outputs": [],
   "source": [
    "score = model_final.evaluate(x_test, y_test, verbose=0)"
   ]
  },
  {
   "cell_type": "code",
   "execution_count": 33,
   "metadata": {},
   "outputs": [
    {
     "name": "stdout",
     "output_type": "stream",
     "text": [
      "Test loss: 1.5334487199783324\n",
      "Test accuracy: 0.396875\n"
     ]
    }
   ],
   "source": [
    "print('Test loss:', score[0])\n",
    "print('Test accuracy:', score[1])"
   ]
  },
  {
   "cell_type": "code",
   "execution_count": 34,
   "metadata": {},
   "outputs": [
    {
     "name": "stdout",
     "output_type": "stream",
     "text": [
      "dict_keys(['loss', 'acc', 'val_loss', 'val_acc'])\n"
     ]
    },
    {
     "data": {
      "image/png": "[encoded data removed]",
      "text/plain": [
       "<Figure size 432x288 with 1 Axes>"
      ]
     },
     "metadata": {
      "needs_background": "light"
     },
     "output_type": "display_data"
    },
    {
     "data": {
      "image/png": "[encoded data removed]",
      "text/plain": [
       "<Figure size 432x288 with 1 Axes>"
      ]
     },
     "metadata": {
      "needs_background": "light"
     },
     "output_type": "display_data"
    }
   ],
   "source": [
    "print(history.history.keys())\n",
    "\n",
    "plt.plot(history.history['acc'])\n",
    "plt.plot(history.history['val_acc'])\n",
    "plt.title('model accuracy')\n",
    "plt.ylabel('accuracy')\n",
    "plt.xlabel('epoch')\n",
    "plt.legend(['train', 'test'], loc='upper left')\n",
    "plt.show()\n",
    "\n",
    "plt.plot(history.history['loss'])\n",
    "plt.plot(history.history['val_loss'])\n",
    "plt.title('model loss')\n",
    "plt.ylabel('loss')\n",
    "plt.xlabel('epoch')\n",
    "plt.legend(['train', 'test'], loc='upper right')\n",
    "plt.show()"
   ]
  },
  {
   "cell_type": "code",
   "execution_count": 30,
   "metadata": {},
   "outputs": [
    {
     "data": {
      "text/plain": [
       "array([1.7406090e-01, 8.2465869e-01, 7.4679956e-05, 6.4581633e-05,\n",
       "       3.0395921e-04, 3.3695229e-05, 7.4848841e-04, 5.4951608e-05],\n",
       "      dtype=float32)"
      ]
     },
     "execution_count": 30,
     "metadata": {},
     "output_type": "execute_result"
    }
   ],
   "source": [
    "predictions=model_final.predict(x_test)\n",
    "predictions[10]"
   ]
  },
  {
   "cell_type": "code",
   "execution_count": 31,
   "metadata": {},
   "outputs": [
    {
     "data": {
      "text/plain": [
       "1"
      ]
     },
     "execution_count": 31,
     "metadata": {},
     "output_type": "execute_result"
    }
   ],
   "source": [
    "import numpy as np\n",
    "np.argmax(predictions[10])"
   ]
  },
  {
   "cell_type": "code",
   "execution_count": 32,
   "metadata": {},
   "outputs": [
    {
     "data": {
      "text/plain": [
       "array([0., 1., 0., 0., 0., 0., 0., 0.], dtype=float32)"
      ]
     },
     "execution_count": 32,
     "metadata": {},
     "output_type": "execute_result"
    }
   ],
   "source": [
    "y_test[10]"
   ]
  },
  {
   "cell_type": "code",
   "execution_count": null,
   "metadata": {},
   "outputs": [],
   "source": []
  },
  {
   "cell_type": "code",
   "execution_count": null,
   "metadata": {},
   "outputs": [],
   "source": []
  }
 ],
 "metadata": {
  "kernelspec": {
   "display_name": "Python 3",
   "language": "python",
   "name": "python3"
  },
  "language_info": {
   "codemirror_mode": {
    "name": "ipython",
    "version": 3
   },
   "file_extension": ".py",
   "mimetype": "text/x-python",
   "name": "python",
   "nbconvert_exporter": "python",
   "pygments_lexer": "ipython3",
   "version": "3.7.3"
  }
 },
 "nbformat": 4,
 "nbformat_minor": 2
}
