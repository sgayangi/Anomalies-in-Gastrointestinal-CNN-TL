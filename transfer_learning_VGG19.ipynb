{
 "cells": [
  {
   "cell_type": "code",
   "execution_count": 1,
   "metadata": {},
   "outputs": [],
   "source": [
    "import cv2\n",
    "import matplotlib.pyplot as plt\n",
    "import os\n",
    "import numpy as np\n",
    "import tensorflow as tf\n",
    "import tensorflowjs as tfjs\n",
    "from tensorflow.keras import applications\n",
    "from tensorflow.keras import optimizers"
   ]
  },
  {
   "cell_type": "code",
   "execution_count": 18,
   "metadata": {},
   "outputs": [],
   "source": [
    "datadir='/home/shashimal/Documents/dataset'\n",
    "categories = ['dyed-lifted-polyps','dyed-resection-margins','esophagitis',\n",
    "             'normal-cecum','normal-pylorus','normal-z-line','polyps','ulcerative-colitis']"
   ]
  },
  {
   "cell_type": "code",
   "execution_count": 19,
   "metadata": {},
   "outputs": [],
   "source": [
    "training_data=[]\n",
    "def create_training_data():\n",
    "    for category in categories:\n",
    "        path = os.path.join(datadir,category)\n",
    "        class_num = categories.index(category)\n",
    "        for img in os.listdir(path):\n",
    "            try:\n",
    "                img_array = cv2.imread(os.path.join(path,img))\n",
    "                new_array = cv2.resize(img_array,(96,96))\n",
    "#                 crop_array = new_array[0:96,35:96]\n",
    "                training_data.append([new_array,class_num])\n",
    "            except Exception as e:    \n",
    "                pass\n",
    "create_training_data() "
   ]
  },
  {
   "cell_type": "code",
   "execution_count": 20,
   "metadata": {},
   "outputs": [
    {
     "data": {
      "text/plain": [
       "(8000, 96, 96, 3)"
      ]
     },
     "execution_count": 20,
     "metadata": {},
     "output_type": "execute_result"
    }
   ],
   "source": [
    "x=[]\n",
    "y=[]\n",
    "\n",
    "for features,label in training_data:\n",
    "    x.append(features)\n",
    "    y.append(label)\n",
    "x = np.array(x).reshape(8000,96,96,3)\n",
    "x.shape"
   ]
  },
  {
   "cell_type": "code",
   "execution_count": 21,
   "metadata": {},
   "outputs": [],
   "source": [
    "from sklearn.model_selection import train_test_split\n",
    "x_train,x_test,y_train,y_test = train_test_split(x,y,test_size=0.2,random_state=42)"
   ]
  },
  {
   "cell_type": "code",
   "execution_count": 22,
   "metadata": {},
   "outputs": [],
   "source": [
    "x_train=x_train.astype('float32')\n",
    "x_test=x_test.astype('float32')\n",
    "x_train/=255\n",
    "x_test/=255"
   ]
  },
  {
   "cell_type": "code",
   "execution_count": 23,
   "metadata": {},
   "outputs": [],
   "source": [
    "y_train = tf.keras.utils.to_categorical(y_train, 8)\n",
    "y_test = tf.keras.utils.to_categorical(y_test, 8)"
   ]
  },
  {
   "cell_type": "code",
   "execution_count": 24,
   "metadata": {},
   "outputs": [],
   "source": [
    "model = applications.VGG19(weights = \"imagenet\", include_top=False, input_shape = (96, 96, 3))\n"
   ]
  },
  {
   "cell_type": "code",
   "execution_count": 25,
   "metadata": {},
   "outputs": [],
   "source": [
    "for layer in model.layers[:20]:\n",
    "    layer.trainable = False\n",
    "x = model.output\n",
    "x =  tf.keras.layers.Flatten()(x)\n",
    "x = tf.keras.layers.Dense(1024, activation=\"relu\")(x)\n",
    "x = tf.keras.layers.Dropout(0.5)(x)\n",
    "x = tf.keras.layers.Dense(1024, activation=\"relu\")(x)\n",
    "predictions = tf.keras.layers.Dense(8, activation=\"softmax\")(x)   \n",
    "model_final = tf.keras.models.Model(model.input,predictions)\n",
    "model_final.compile(loss = \"categorical_crossentropy\", optimizer = optimizers.SGD(lr=0.0001, momentum=0.9), metrics=[\"accuracy\"])\n",
    "\n",
    "    "
   ]
  },
  {
   "cell_type": "code",
   "execution_count": 26,
   "metadata": {},
   "outputs": [
    {
     "name": "stdout",
     "output_type": "stream",
     "text": [
      "Train on 6400 samples, validate on 1600 samples\n",
      "Epoch 1/20\n",
      "6400/6400 [==============================] - 567s 89ms/sample - loss: 2.0527 - acc: 0.1991 - val_loss: 1.7468 - val_acc: 0.4137\n",
      "Epoch 2/20\n",
      "6400/6400 [==============================] - 558s 87ms/sample - loss: 1.7041 - acc: 0.3742 - val_loss: 1.4542 - val_acc: 0.5638\n",
      "Epoch 3/20\n",
      "6400/6400 [==============================] - 578s 90ms/sample - loss: 1.4668 - acc: 0.4675 - val_loss: 1.2694 - val_acc: 0.5794\n",
      "Epoch 4/20\n",
      "6400/6400 [==============================] - 551s 86ms/sample - loss: 1.3161 - acc: 0.5067 - val_loss: 1.1311 - val_acc: 0.6075\n",
      "Epoch 5/20\n",
      "6400/6400 [==============================] - 534s 83ms/sample - loss: 1.2004 - acc: 0.5417 - val_loss: 1.0440 - val_acc: 0.6219\n",
      "Epoch 6/20\n",
      "6400/6400 [==============================] - 555s 87ms/sample - loss: 1.1242 - acc: 0.5559 - val_loss: 0.9820 - val_acc: 0.6338\n",
      "Epoch 7/20\n",
      "6400/6400 [==============================] - 603s 94ms/sample - loss: 1.0643 - acc: 0.5784 - val_loss: 0.9343 - val_acc: 0.6244\n",
      "Epoch 8/20\n",
      "6400/6400 [==============================] - 542s 85ms/sample - loss: 1.0147 - acc: 0.5967 - val_loss: 0.8932 - val_acc: 0.6450\n",
      "Epoch 9/20\n",
      "6400/6400 [==============================] - 532s 83ms/sample - loss: 0.9709 - acc: 0.6030 - val_loss: 0.8601 - val_acc: 0.6500\n",
      "Epoch 10/20\n",
      "6400/6400 [==============================] - 532s 83ms/sample - loss: 0.9389 - acc: 0.6166 - val_loss: 0.8304 - val_acc: 0.6637\n",
      "Epoch 11/20\n",
      "6400/6400 [==============================] - 532s 83ms/sample - loss: 0.9126 - acc: 0.6228 - val_loss: 0.8069 - val_acc: 0.6719\n",
      "Epoch 12/20\n",
      "6400/6400 [==============================] - 532s 83ms/sample - loss: 0.8874 - acc: 0.6356 - val_loss: 0.7863 - val_acc: 0.6769\n",
      "Epoch 13/20\n",
      "6400/6400 [==============================] - 532s 83ms/sample - loss: 0.8646 - acc: 0.6427 - val_loss: 0.7768 - val_acc: 0.6756\n",
      "Epoch 14/20\n",
      "6400/6400 [==============================] - 532s 83ms/sample - loss: 0.8403 - acc: 0.6502 - val_loss: 0.7525 - val_acc: 0.6931\n",
      "Epoch 15/20\n",
      "6400/6400 [==============================] - 532s 83ms/sample - loss: 0.8301 - acc: 0.6642 - val_loss: 0.7407 - val_acc: 0.7000\n",
      "Epoch 16/20\n",
      "6400/6400 [==============================] - 537s 84ms/sample - loss: 0.8112 - acc: 0.6664 - val_loss: 0.7286 - val_acc: 0.6956\n",
      "Epoch 17/20\n",
      "6400/6400 [==============================] - 546s 85ms/sample - loss: 0.7883 - acc: 0.6781 - val_loss: 0.7159 - val_acc: 0.7050\n",
      "Epoch 18/20\n",
      "6400/6400 [==============================] - 664s 104ms/sample - loss: 0.7840 - acc: 0.6814 - val_loss: 0.7016 - val_acc: 0.7125\n",
      "Epoch 19/20\n",
      "6400/6400 [==============================] - 618s 97ms/sample - loss: 0.7671 - acc: 0.6880 - val_loss: 0.6940 - val_acc: 0.7113\n",
      "Epoch 20/20\n",
      "6400/6400 [==============================] - 534s 83ms/sample - loss: 0.7473 - acc: 0.6903 - val_loss: 0.6796 - val_acc: 0.7212\n"
     ]
    }
   ],
   "source": [
    "history=model_final.fit(x_train, y_train,\n",
    "          batch_size=64,\n",
    "          epochs=20,\n",
    "          verbose=1,\n",
    "          validation_data=(x_test, y_test))"
   ]
  },
  {
   "cell_type": "code",
   "execution_count": null,
   "metadata": {},
   "outputs": [],
   "source": [
    "score = model_final.evaluate(x_test, y_test, verbose=0)"
   ]
  },
  {
   "cell_type": "code",
   "execution_count": null,
   "metadata": {},
   "outputs": [],
   "source": [
    "print('Test loss:', score[0])\n",
    "print('Test accuracy:', score[1])"
   ]
  },
  {
   "cell_type": "code",
   "execution_count": null,
   "metadata": {},
   "outputs": [],
   "source": [
    "print(history.history.keys())\n",
    "\n",
    "plt.plot(history.history['acc'])\n",
    "plt.plot(history.history['val_acc'])\n",
    "plt.title('model accuracy')\n",
    "plt.ylabel('accuracy')\n",
    "plt.xlabel('epoch')\n",
    "plt.legend(['train', 'test'], loc='upper left')\n",
    "plt.show()\n",
    "\n",
    "plt.plot(history.history['loss'])\n",
    "plt.plot(history.history['val_loss'])\n",
    "plt.title('model loss')\n",
    "plt.ylabel('loss')\n",
    "plt.xlabel('epoch')\n",
    "plt.legend(['train', 'test'], loc='upper right')\n",
    "plt.show()"
   ]
  },
  {
   "cell_type": "code",
   "execution_count": null,
   "metadata": {},
   "outputs": [],
   "source": [
    "predictions=model_final.predict(x_test)\n",
    "predictions[10]"
   ]
  },
  {
   "cell_type": "code",
   "execution_count": null,
   "metadata": {},
   "outputs": [],
   "source": [
    "import numpy as np\n",
    "np.argmax(predictions[10])"
   ]
  },
  {
   "cell_type": "code",
   "execution_count": null,
   "metadata": {},
   "outputs": [],
   "source": [
    "y_test[10]"
   ]
  },
  {
   "cell_type": "code",
   "execution_count": null,
   "metadata": {},
   "outputs": [],
   "source": []
  },
  {
   "cell_type": "code",
   "execution_count": null,
   "metadata": {},
   "outputs": [],
   "source": []
  }
 ],
 "metadata": {
  "kernelspec": {
   "display_name": "Python 3",
   "language": "python",
   "name": "python3"
  },
  "language_info": {
   "codemirror_mode": {
    "name": "ipython",
    "version": 3
   },
   "file_extension": ".py",
   "mimetype": "text/x-python",
   "name": "python",
   "nbconvert_exporter": "python",
   "pygments_lexer": "ipython3",
   "version": "3.7.3"
  }
 },
 "nbformat": 4,
 "nbformat_minor": 2
}
