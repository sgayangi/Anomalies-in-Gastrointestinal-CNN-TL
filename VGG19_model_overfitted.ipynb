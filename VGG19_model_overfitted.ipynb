{
  "nbformat": 4,
  "nbformat_minor": 0,
  "metadata": {
    "kernelspec": {
      "display_name": "Python 3",
      "language": "python",
      "name": "python3"
    },
    "language_info": {
      "codemirror_mode": {
        "name": "ipython",
        "version": 3
      },
      "file_extension": ".py",
      "mimetype": "text/x-python",
      "name": "python",
      "nbconvert_exporter": "python",
      "pygments_lexer": "ipython3",
      "version": "3.7.6"
    },
    "colab": {
      "name": "VGG19 model.ipynb",
      "provenance": [],
      "collapsed_sections": [],
      "include_colab_link": true
    },
    "accelerator": "GPU"
  },
  "cells": [
    {
      "cell_type": "markdown",
      "metadata": {
        "id": "view-in-github",
        "colab_type": "text"
      },
      "source": [
        "<a href=\"https://colab.research.google.com/github/sgayangi/Anomalies-in-Gastrointestinal-CNN-TL/blob/master/VGG19_model_overfitted.ipynb\" target=\"_parent\"><img src=\"https://colab.research.google.com/assets/colab-badge.svg\" alt=\"Open In Colab\"/></a>"
      ]
    },
    {
      "cell_type": "code",
      "metadata": {
        "id": "2nKlPU9sbLGI"
      },
      "source": [
        "\n",
        "import cv2\n",
        "import matplotlib.pyplot as plt\n",
        "import os\n",
        "import numpy as np\n",
        "import tensorflow as tf\n",
        "from tensorflow.keras import applications\n",
        "from tensorflow.keras import optimizers"
      ],
      "execution_count": 2,
      "outputs": []
    },
    {
      "cell_type": "code",
      "metadata": {
        "colab": {
          "base_uri": "https://localhost:8080/"
        },
        "id": "NeGb_j4YtqEp",
        "outputId": "61c9e60c-45dc-4542-db61-7acf32a11466"
      },
      "source": [
        "!wget --no-check-certificate \\\r\n",
        "  https://datasets.simula.no/kvasir/data/kvasir-dataset-v2-folds-features.zip\\\r\n",
        "  -O /tmp/kvasir-dataset-v2-features.zip"
      ],
      "execution_count": 3,
      "outputs": [
        {
          "output_type": "stream",
          "text": [
            "--2021-03-06 05:24:18--  https://datasets.simula.no/kvasir/data/kvasir-dataset-v2-folds-features.zip\n",
            "Resolving datasets.simula.no (datasets.simula.no)... 128.39.36.14\n",
            "Connecting to datasets.simula.no (datasets.simula.no)|128.39.36.14|:443... connected.\n",
            "HTTP request sent, awaiting response... 200 OK\n",
            "Length: 98573500 (94M) [application/zip]\n",
            "Saving to: ‘/tmp/kvasir-dataset-v2-features.zip’\n",
            "\n",
            "/tmp/kvasir-dataset 100%[===================>]  94.01M  9.95MB/s    in 10s     \n",
            "\n",
            "2021-03-06 05:24:29 (9.02 MB/s) - ‘/tmp/kvasir-dataset-v2-features.zip’ saved [98573500/98573500]\n",
            "\n"
          ],
          "name": "stdout"
        }
      ]
    },
    {
      "cell_type": "code",
      "metadata": {
        "colab": {
          "base_uri": "https://localhost:8080/"
        },
        "id": "4hW7VawDvAN7",
        "outputId": "85a27fda-6ddf-419e-ac19-88d6cd619917"
      },
      "source": [
        "!wget --no-check-certificate \\\r\n",
        "  https://datasets.simula.no/kvasir/data/kvasir-dataset-v2.zip\\\r\n",
        "  -O /tmp/kvasir-dataset-v2.zip"
      ],
      "execution_count": 4,
      "outputs": [
        {
          "output_type": "stream",
          "text": [
            "--2021-03-06 05:24:30--  https://datasets.simula.no/kvasir/data/kvasir-dataset-v2.zip\n",
            "Resolving datasets.simula.no (datasets.simula.no)... 128.39.36.14\n",
            "Connecting to datasets.simula.no (datasets.simula.no)|128.39.36.14|:443... connected.\n",
            "HTTP request sent, awaiting response... 200 OK\n",
            "Length: 2489312085 (2.3G) [application/zip]\n",
            "Saving to: ‘/tmp/kvasir-dataset-v2.zip’\n",
            "\n",
            "/tmp/kvasir-dataset 100%[===================>]   2.32G  9.25MB/s    in 4m 20s  \n",
            "\n",
            "2021-03-06 05:28:51 (9.13 MB/s) - ‘/tmp/kvasir-dataset-v2.zip’ saved [2489312085/2489312085]\n",
            "\n"
          ],
          "name": "stdout"
        }
      ]
    },
    {
      "cell_type": "code",
      "metadata": {
        "id": "yYp4_ruabLG2"
      },
      "source": [
        "datadir='/tmp/kvasir-dataset-v2'\n",
        "categories = ['dyed-lifted-polyps','dyed-resection-margins','esophagitis',\n",
        "             'normal-cecum','normal-pylorus','normal-z-line','polyps','ulcerative-colitis']"
      ],
      "execution_count": 5,
      "outputs": []
    },
    {
      "cell_type": "code",
      "metadata": {
        "id": "5fZljmwTw_Tg"
      },
      "source": [
        "import os\r\n",
        "import zipfile\r\n",
        "\r\n",
        "local_zip = '/tmp/kvasir-dataset-v2.zip'\r\n",
        "\r\n",
        "zip_ref = zipfile.ZipFile(local_zip, 'r')\r\n",
        "\r\n",
        "zip_ref.extractall('/tmp')\r\n",
        "zip_ref.close()"
      ],
      "execution_count": 6,
      "outputs": []
    },
    {
      "cell_type": "code",
      "metadata": {
        "id": "BAOs7uWebLG7"
      },
      "source": [
        "training_data=[]\n",
        "def create_training_data():\n",
        "    for category in categories:\n",
        "        path = os.path.join(datadir,category)\n",
        "        class_num = categories.index(category)\n",
        "        for img in os.listdir(path):\n",
        "            try:\n",
        "                img_array = cv2.imread(os.path.join(path,img))\n",
        "                new_array = cv2.resize(img_array,(96,96))\n",
        "                training_data.append([new_array,class_num])\n",
        "            except Exception as e:    \n",
        "                pass\n",
        "create_training_data()"
      ],
      "execution_count": 7,
      "outputs": []
    },
    {
      "cell_type": "code",
      "metadata": {
        "colab": {
          "base_uri": "https://localhost:8080/"
        },
        "id": "gkNQAWc4bLHB",
        "outputId": "51706676-5e00-488e-f0a3-f86924e1f61f"
      },
      "source": [
        "y=[]\n",
        "x=[]\n",
        "\n",
        "for features,label in training_data:\n",
        "    x.append(features)\n",
        "    y.append(label)\n",
        "x = np.array(x)\n",
        "print(x.shape)"
      ],
      "execution_count": 23,
      "outputs": [
        {
          "output_type": "stream",
          "text": [
            "(8000, 96, 96, 3)\n"
          ],
          "name": "stdout"
        }
      ]
    },
    {
      "cell_type": "code",
      "metadata": {
        "id": "F5pKdaYibLHH"
      },
      "source": [
        "from sklearn.model_selection import train_test_split\n",
        "x_train,x_test,y_train,y_test = train_test_split(x,y,test_size=0.3,random_state=42)"
      ],
      "execution_count": 24,
      "outputs": []
    },
    {
      "cell_type": "code",
      "metadata": {
        "id": "ptLtV3AkbLHI"
      },
      "source": [
        "x_train=np.array(x_train, dtype=np.float32)\n",
        "x_test=np.array(x_test, dtype=np.float32)\n",
        "x_train/=255.0\n",
        "x_test/=255.0"
      ],
      "execution_count": 25,
      "outputs": []
    },
    {
      "cell_type": "code",
      "metadata": {
        "id": "wSeyr-5HbLHI"
      },
      "source": [
        "y_train = tf.keras.utils.to_categorical(y_train, 8)\n",
        "y_test = tf.keras.utils.to_categorical(y_test, 8)"
      ],
      "execution_count": 26,
      "outputs": []
    },
    {
      "cell_type": "code",
      "metadata": {
        "id": "tLZ2-FMnbLHJ"
      },
      "source": [
        "# local_weights_file = '/tmp/kvasir-cnn-v1.1.h5'\r\n",
        "# new_model = tf.keras.models.load_model(local_weights_file)\r\n",
        "\r\n",
        "model = applications.VGG19(weights = \"imagenet\", include_top=False, input_shape = (96, 96, 3))"
      ],
      "execution_count": 27,
      "outputs": []
    },
    {
      "cell_type": "code",
      "metadata": {
        "id": "YyTxqR3KbLHK"
      },
      "source": [
        "for layer in model.layers[:30]:\n",
        "    layer.trainable = True\n",
        "x = model.output\n",
        "x =  tf.keras.layers.Flatten()(x)\n",
        "x = tf.keras.layers.Dense(1024, activation=\"relu\")(x)\n",
        "x = tf.keras.layers.Dropout(0.5)(x)\n",
        "x = tf.keras.layers.Dense(1024, activation=\"relu\")(x)\n",
        "predictions = tf.keras.layers.Dense(8, activation=\"softmax\")(x)   \n",
        "model_final = tf.keras.models.Model(model.input,predictions)\n",
        "model_final.compile(loss = \"categorical_crossentropy\", optimizer = optimizers.SGD(lr=0.0001, momentum=0.9), metrics=[\"accuracy\"])"
      ],
      "execution_count": 31,
      "outputs": []
    },
    {
      "cell_type": "code",
      "metadata": {
        "id": "xDIaEJfIbLHL",
        "colab": {
          "base_uri": "https://localhost:8080/"
        },
        "outputId": "89fbb287-8906-4b6a-bcd2-be8c303c5b79"
      },
      "source": [
        "history=model_final.fit(x_train, y_train,\n",
        "          batch_size=32,\n",
        "          epochs=50,\n",
        "          verbose=1,\n",
        "          validation_data=(x_test, y_test))"
      ],
      "execution_count": 29,
      "outputs": [
        {
          "output_type": "stream",
          "text": [
            "Epoch 1/50\n",
            "175/175 [==============================] - 22s 122ms/step - loss: 1.9470 - accuracy: 0.2383 - val_loss: 0.9177 - val_accuracy: 0.6162\n",
            "Epoch 2/50\n",
            "175/175 [==============================] - 22s 125ms/step - loss: 0.9681 - accuracy: 0.5840 - val_loss: 0.6631 - val_accuracy: 0.7067\n",
            "Epoch 3/50\n",
            "175/175 [==============================] - 22s 128ms/step - loss: 0.6899 - accuracy: 0.7083 - val_loss: 0.4944 - val_accuracy: 0.7929\n",
            "Epoch 4/50\n",
            "175/175 [==============================] - 22s 125ms/step - loss: 0.5242 - accuracy: 0.7854 - val_loss: 0.4656 - val_accuracy: 0.8025\n",
            "Epoch 5/50\n",
            "175/175 [==============================] - 22s 124ms/step - loss: 0.4813 - accuracy: 0.8067 - val_loss: 0.4644 - val_accuracy: 0.8071\n",
            "Epoch 6/50\n",
            "175/175 [==============================] - 22s 126ms/step - loss: 0.3985 - accuracy: 0.8454 - val_loss: 0.4472 - val_accuracy: 0.8196\n",
            "Epoch 7/50\n",
            "175/175 [==============================] - 22s 126ms/step - loss: 0.3542 - accuracy: 0.8603 - val_loss: 0.4107 - val_accuracy: 0.8329\n",
            "Epoch 8/50\n",
            "175/175 [==============================] - 22s 125ms/step - loss: 0.3353 - accuracy: 0.8690 - val_loss: 0.3696 - val_accuracy: 0.8508\n",
            "Epoch 9/50\n",
            "175/175 [==============================] - 22s 125ms/step - loss: 0.3160 - accuracy: 0.8702 - val_loss: 0.3417 - val_accuracy: 0.8617\n",
            "Epoch 10/50\n",
            "175/175 [==============================] - 22s 125ms/step - loss: 0.2688 - accuracy: 0.8959 - val_loss: 0.3746 - val_accuracy: 0.8454\n",
            "Epoch 11/50\n",
            "175/175 [==============================] - 22s 125ms/step - loss: 0.2397 - accuracy: 0.9075 - val_loss: 0.3453 - val_accuracy: 0.8633\n",
            "Epoch 12/50\n",
            "175/175 [==============================] - 22s 126ms/step - loss: 0.2379 - accuracy: 0.9056 - val_loss: 0.3108 - val_accuracy: 0.8733\n",
            "Epoch 13/50\n",
            "175/175 [==============================] - 22s 126ms/step - loss: 0.2110 - accuracy: 0.9125 - val_loss: 0.3541 - val_accuracy: 0.8646\n",
            "Epoch 14/50\n",
            "175/175 [==============================] - 22s 126ms/step - loss: 0.2101 - accuracy: 0.9164 - val_loss: 0.3355 - val_accuracy: 0.8683\n",
            "Epoch 15/50\n",
            "175/175 [==============================] - 22s 126ms/step - loss: 0.2144 - accuracy: 0.9165 - val_loss: 0.3447 - val_accuracy: 0.8654\n",
            "Epoch 16/50\n",
            "175/175 [==============================] - 22s 126ms/step - loss: 0.1745 - accuracy: 0.9340 - val_loss: 0.3734 - val_accuracy: 0.8583\n",
            "Epoch 17/50\n",
            "175/175 [==============================] - 22s 126ms/step - loss: 0.1546 - accuracy: 0.9419 - val_loss: 0.5270 - val_accuracy: 0.8350\n",
            "Epoch 18/50\n",
            "175/175 [==============================] - 22s 126ms/step - loss: 0.1604 - accuracy: 0.9394 - val_loss: 0.3601 - val_accuracy: 0.8679\n",
            "Epoch 19/50\n",
            "175/175 [==============================] - 22s 126ms/step - loss: 0.1517 - accuracy: 0.9465 - val_loss: 0.3377 - val_accuracy: 0.8779\n",
            "Epoch 20/50\n",
            "175/175 [==============================] - 22s 126ms/step - loss: 0.1165 - accuracy: 0.9559 - val_loss: 0.4116 - val_accuracy: 0.8637\n",
            "Epoch 21/50\n",
            "175/175 [==============================] - 22s 125ms/step - loss: 0.1223 - accuracy: 0.9530 - val_loss: 0.3659 - val_accuracy: 0.8804\n",
            "Epoch 22/50\n",
            "175/175 [==============================] - 22s 125ms/step - loss: 0.1090 - accuracy: 0.9547 - val_loss: 0.4161 - val_accuracy: 0.8721\n",
            "Epoch 23/50\n",
            "175/175 [==============================] - 22s 125ms/step - loss: 0.1125 - accuracy: 0.9581 - val_loss: 0.4358 - val_accuracy: 0.8617\n",
            "Epoch 24/50\n",
            "175/175 [==============================] - 22s 125ms/step - loss: 0.1040 - accuracy: 0.9636 - val_loss: 0.3942 - val_accuracy: 0.8721\n",
            "Epoch 25/50\n",
            "175/175 [==============================] - 22s 125ms/step - loss: 0.0825 - accuracy: 0.9701 - val_loss: 0.4364 - val_accuracy: 0.8646\n",
            "Epoch 26/50\n",
            "175/175 [==============================] - 22s 125ms/step - loss: 0.0857 - accuracy: 0.9667 - val_loss: 0.3654 - val_accuracy: 0.8863\n",
            "Epoch 27/50\n",
            "175/175 [==============================] - 22s 125ms/step - loss: 0.0658 - accuracy: 0.9772 - val_loss: 0.4364 - val_accuracy: 0.8750\n",
            "Epoch 28/50\n",
            "175/175 [==============================] - 22s 125ms/step - loss: 0.0672 - accuracy: 0.9746 - val_loss: 0.4275 - val_accuracy: 0.8771\n",
            "Epoch 29/50\n",
            "175/175 [==============================] - 22s 126ms/step - loss: 0.0669 - accuracy: 0.9742 - val_loss: 0.5904 - val_accuracy: 0.8354\n",
            "Epoch 30/50\n",
            "175/175 [==============================] - 22s 126ms/step - loss: 0.0952 - accuracy: 0.9665 - val_loss: 0.4695 - val_accuracy: 0.8721\n",
            "Epoch 31/50\n",
            "175/175 [==============================] - 22s 126ms/step - loss: 0.0532 - accuracy: 0.9801 - val_loss: 0.4264 - val_accuracy: 0.8825\n",
            "Epoch 32/50\n",
            "175/175 [==============================] - 22s 126ms/step - loss: 0.0593 - accuracy: 0.9804 - val_loss: 0.4414 - val_accuracy: 0.8858\n",
            "Epoch 33/50\n",
            "175/175 [==============================] - 22s 126ms/step - loss: 0.0320 - accuracy: 0.9913 - val_loss: 0.6504 - val_accuracy: 0.8408\n",
            "Epoch 34/50\n",
            "175/175 [==============================] - 22s 126ms/step - loss: 0.0631 - accuracy: 0.9797 - val_loss: 0.4660 - val_accuracy: 0.8792\n",
            "Epoch 35/50\n",
            "175/175 [==============================] - 22s 126ms/step - loss: 0.0398 - accuracy: 0.9855 - val_loss: 0.4941 - val_accuracy: 0.8792\n",
            "Epoch 36/50\n",
            "175/175 [==============================] - 22s 126ms/step - loss: 0.0376 - accuracy: 0.9872 - val_loss: 0.5333 - val_accuracy: 0.8788\n",
            "Epoch 37/50\n",
            "175/175 [==============================] - 22s 126ms/step - loss: 0.0271 - accuracy: 0.9916 - val_loss: 0.5079 - val_accuracy: 0.8838\n",
            "Epoch 38/50\n",
            "175/175 [==============================] - 22s 126ms/step - loss: 0.0232 - accuracy: 0.9928 - val_loss: 0.5050 - val_accuracy: 0.8683\n",
            "Epoch 39/50\n",
            "175/175 [==============================] - 22s 126ms/step - loss: 0.0288 - accuracy: 0.9924 - val_loss: 0.5463 - val_accuracy: 0.8621\n",
            "Epoch 40/50\n",
            "175/175 [==============================] - 22s 127ms/step - loss: 0.0389 - accuracy: 0.9879 - val_loss: 0.5009 - val_accuracy: 0.8833\n",
            "Epoch 41/50\n",
            "175/175 [==============================] - 22s 126ms/step - loss: 0.0396 - accuracy: 0.9869 - val_loss: 0.5904 - val_accuracy: 0.8767\n",
            "Epoch 42/50\n",
            "175/175 [==============================] - 22s 126ms/step - loss: 0.0176 - accuracy: 0.9970 - val_loss: 0.5846 - val_accuracy: 0.8792\n",
            "Epoch 43/50\n",
            "175/175 [==============================] - 22s 126ms/step - loss: 0.0422 - accuracy: 0.9844 - val_loss: 0.4392 - val_accuracy: 0.8838\n",
            "Epoch 44/50\n",
            "175/175 [==============================] - 22s 126ms/step - loss: 0.0176 - accuracy: 0.9967 - val_loss: 0.5334 - val_accuracy: 0.8850\n",
            "Epoch 45/50\n",
            "175/175 [==============================] - 22s 126ms/step - loss: 0.0118 - accuracy: 0.9980 - val_loss: 0.5733 - val_accuracy: 0.8792\n",
            "Epoch 46/50\n",
            "175/175 [==============================] - 22s 126ms/step - loss: 0.0140 - accuracy: 0.9965 - val_loss: 0.5772 - val_accuracy: 0.8821\n",
            "Epoch 47/50\n",
            "175/175 [==============================] - 22s 126ms/step - loss: 0.0091 - accuracy: 0.9989 - val_loss: 0.6089 - val_accuracy: 0.8817\n",
            "Epoch 48/50\n",
            "175/175 [==============================] - 22s 125ms/step - loss: 0.0044 - accuracy: 0.9991 - val_loss: 0.7010 - val_accuracy: 0.8842\n",
            "Epoch 49/50\n",
            "175/175 [==============================] - 22s 125ms/step - loss: 0.0124 - accuracy: 0.9959 - val_loss: 0.6331 - val_accuracy: 0.8775\n",
            "Epoch 50/50\n",
            "175/175 [==============================] - 22s 125ms/step - loss: 0.0064 - accuracy: 0.9986 - val_loss: 0.6170 - val_accuracy: 0.8833\n"
          ],
          "name": "stdout"
        }
      ]
    },
    {
      "cell_type": "code",
      "metadata": {
        "id": "o4MVDAV0bLHN",
        "colab": {
          "base_uri": "https://localhost:8080/",
          "height": 298
        },
        "outputId": "578301aa-ee78-4b62-9889-e955c8dafa69"
      },
      "source": [
        "model.save('vgg-19-model-weights-v2.h5')\r\n",
        "\r\n",
        "import matplotlib.pyplot as plt\r\n",
        "acc = history.history['accuracy']\r\n",
        "val_acc = history.history['val_accuracy']\r\n",
        "loss = history.history['loss']\r\n",
        "val_loss = history.history['val_loss']\r\n",
        "\r\n",
        "epochs = range(len(acc))\r\n",
        "\r\n",
        "plt.plot(epochs, acc, 'r', label='Training accuracy')\r\n",
        "plt.plot(epochs, val_acc, 'b', label='Validation accuracy')\r\n",
        "plt.title('Training and validation accuracy')\r\n",
        "plt.legend(loc=0)\r\n",
        "plt.figure()\r\n",
        "\r\n",
        "\r\n",
        "plt.show()"
      ],
      "execution_count": 30,
      "outputs": [
        {
          "output_type": "display_data",
          "data": {
            "image/png": "[encoded data removed]",
            "text/plain": [
              "<Figure size 432x288 with 1 Axes>"
            ]
          },
          "metadata": {
            "tags": [],
            "needs_background": "light"
          }
        },
        {
          "output_type": "display_data",
          "data": {
            "text/plain": [
              "<Figure size 432x288 with 0 Axes>"
            ]
          },
          "metadata": {
            "tags": []
          }
        }
      ]
    }
  ]
}