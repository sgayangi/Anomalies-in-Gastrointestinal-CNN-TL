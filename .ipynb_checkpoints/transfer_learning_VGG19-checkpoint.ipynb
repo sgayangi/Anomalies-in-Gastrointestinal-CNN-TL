{
 "cells": [
  {
   "cell_type": "code",
   "execution_count": 1,
   "metadata": {},
   "outputs": [],
   "source": [
    "import cv2\n",
    "import matplotlib.pyplot as plt\n",
    "import os\n",
    "import numpy as np\n",
    "import tensorflow as tf\n",
    "import tensorflowjs as tfjs\n",
    "from tensorflow.keras import applications\n",
    "from tensorflow.keras import optimizers"
   ]
  },
  {
   "cell_type": "code",
   "execution_count": 2,
   "metadata": {},
   "outputs": [],
   "source": [
    "datadir='/home/shashimal/Documents/dataset'\n",
    "categories = ['dyed-lifted-polyps','dyed-resection-margins','esophagitis',\n",
    "             'normal-cecum','normal-pylorus','normal-pylorus','polyps','ulcerative-colitis']"
   ]
  },
  {
   "cell_type": "code",
   "execution_count": 4,
   "metadata": {},
   "outputs": [],
   "source": [
    "training_data=[]\n",
    "def create_training_data():\n",
    "    for category in categories:\n",
    "        path = os.path.join(datadir,category)\n",
    "        class_num = categories.index(category)\n",
    "        for img in os.listdir(path):\n",
    "            try:\n",
    "                img_array = cv2.imread(os.path.join(path,img))\n",
    "                new_array = cv2.resize(img_array,(96,96))\n",
    "#                 crop_array = new_array[0:96,35:96]\n",
    "                training_data.append([new_array,class_num])\n",
    "            except Exception as e:    \n",
    "                pass\n",
    "create_training_data() "
   ]
  },
  {
   "cell_type": "code",
   "execution_count": 5,
   "metadata": {},
   "outputs": [
    {
     "data": {
      "text/plain": [
       "(8000, 96, 96, 3)"
      ]
     },
     "execution_count": 5,
     "metadata": {},
     "output_type": "execute_result"
    }
   ],
   "source": [
    "x=[]\n",
    "y=[]\n",
    "\n",
    "for features,label in training_data:\n",
    "    x.append(features)\n",
    "    y.append(label)\n",
    "x = np.array(x).reshape(8000,96,96,3)\n",
    "x.shape"
   ]
  },
  {
   "cell_type": "code",
   "execution_count": 6,
   "metadata": {},
   "outputs": [],
   "source": [
    "from sklearn.model_selection import train_test_split\n",
    "x_train,x_test,y_train,y_test = train_test_split(x,y,test_size=0.2,random_state=42)"
   ]
  },
  {
   "cell_type": "code",
   "execution_count": 7,
   "metadata": {},
   "outputs": [],
   "source": [
    "x_train=x_train.astype('float32')\n",
    "x_test=x_test.astype('float32')\n",
    "x_train/=255\n",
    "x_test/=255"
   ]
  },
  {
   "cell_type": "code",
   "execution_count": 8,
   "metadata": {},
   "outputs": [],
   "source": [
    "y_train = tf.keras.utils.to_categorical(y_train, 8)\n",
    "y_test = tf.keras.utils.to_categorical(y_test, 8)"
   ]
  },
  {
   "cell_type": "code",
   "execution_count": 9,
   "metadata": {},
   "outputs": [],
   "source": [
    "model = applications.VGG19(weights = \"imagenet\", include_top=False, input_shape = (96, 96, 3))\n"
   ]
  },
  {
   "cell_type": "code",
   "execution_count": 10,
   "metadata": {},
   "outputs": [],
   "source": [
    "for layer in model.layers[:20]:\n",
    "    layer.trainable = False\n",
    "x = model.output\n",
    "x =  tf.keras.layers.Flatten()(x)\n",
    "x = tf.keras.layers.Dense(1024, activation=\"relu\")(x)\n",
    "x = tf.keras.layers.Dropout(0.5)(x)\n",
    "x = tf.keras.layers.Dense(1024, activation=\"relu\")(x)\n",
    "predictions = tf.keras.layers.Dense(8, activation=\"softmax\")(x)   \n",
    "model_final = tf.keras.models.Model(model.input,predictions)\n",
    "model_final.compile(loss = \"categorical_crossentropy\", optimizer = optimizers.SGD(lr=0.0001, momentum=0.9), metrics=[\"accuracy\"])\n",
    "\n",
    "    "
   ]
  },
  {
   "cell_type": "code",
   "execution_count": 11,
   "metadata": {},
   "outputs": [
    {
     "name": "stdout",
     "output_type": "stream",
     "text": [
      "Train on 6400 samples, validate on 1600 samples\n",
      "WARNING:tensorflow:From /home/shashimal/anaconda3/lib/python3.7/site-packages/tensorflow/python/ops/math_grad.py:1250: add_dispatch_support.<locals>.wrapper (from tensorflow.python.ops.array_ops) is deprecated and will be removed in a future version.\n",
      "Instructions for updating:\n",
      "Use tf.where in 2.0, which has the same broadcast rule as np.where\n",
      "Epoch 1/20\n",
      "6400/6400 [==============================] - 538s 84ms/sample - loss: 1.8309 - acc: 0.3081 - val_loss: 1.4380 - val_acc: 0.4019\n",
      "Epoch 2/20\n",
      "6400/6400 [==============================] - 536s 84ms/sample - loss: 1.3999 - acc: 0.4850 - val_loss: 1.1438 - val_acc: 0.6112\n",
      "Epoch 3/20\n",
      "6400/6400 [==============================] - 536s 84ms/sample - loss: 1.1860 - acc: 0.5558 - val_loss: 0.9949 - val_acc: 0.6587\n",
      "Epoch 4/20\n",
      "6400/6400 [==============================] - 536s 84ms/sample - loss: 1.0584 - acc: 0.5992 - val_loss: 0.8967 - val_acc: 0.6775\n",
      "Epoch 5/20\n",
      "6400/6400 [==============================] - 536s 84ms/sample - loss: 0.9623 - acc: 0.6361 - val_loss: 0.8286 - val_acc: 0.6988\n",
      "Epoch 6/20\n",
      "6400/6400 [==============================] - 535s 84ms/sample - loss: 0.9102 - acc: 0.6444 - val_loss: 0.7784 - val_acc: 0.7175\n",
      "Epoch 7/20\n",
      "6400/6400 [==============================] - 535s 84ms/sample - loss: 0.8637 - acc: 0.6577 - val_loss: 0.7423 - val_acc: 0.7206\n",
      "Epoch 8/20\n",
      "6400/6400 [==============================] - 535s 84ms/sample - loss: 0.8084 - acc: 0.6855 - val_loss: 0.7040 - val_acc: 0.7444\n",
      "Epoch 9/20\n",
      "6400/6400 [==============================] - 535s 84ms/sample - loss: 0.7815 - acc: 0.6880 - val_loss: 0.6758 - val_acc: 0.7444\n",
      "Epoch 10/20\n",
      "6400/6400 [==============================] - 534s 84ms/sample - loss: 0.7460 - acc: 0.7094 - val_loss: 0.6542 - val_acc: 0.7506\n",
      "Epoch 11/20\n",
      "6400/6400 [==============================] - 535s 84ms/sample - loss: 0.7262 - acc: 0.7144 - val_loss: 0.6381 - val_acc: 0.7588\n",
      "Epoch 12/20\n",
      "6400/6400 [==============================] - 535s 84ms/sample - loss: 0.7138 - acc: 0.7202 - val_loss: 0.6209 - val_acc: 0.7638\n",
      "Epoch 13/20\n",
      "6400/6400 [==============================] - 535s 84ms/sample - loss: 0.6861 - acc: 0.7272 - val_loss: 0.6088 - val_acc: 0.7619\n",
      "Epoch 14/20\n",
      "6400/6400 [==============================] - 536s 84ms/sample - loss: 0.6684 - acc: 0.7353 - val_loss: 0.5936 - val_acc: 0.7694\n",
      "Epoch 15/20\n",
      "6400/6400 [==============================] - 535s 84ms/sample - loss: 0.6505 - acc: 0.7375 - val_loss: 0.5778 - val_acc: 0.7788\n",
      "Epoch 16/20\n",
      "6400/6400 [==============================] - 535s 84ms/sample - loss: 0.6381 - acc: 0.7498 - val_loss: 0.5692 - val_acc: 0.7831\n",
      "Epoch 17/20\n",
      "6400/6400 [==============================] - 535s 84ms/sample - loss: 0.6157 - acc: 0.7623 - val_loss: 0.5592 - val_acc: 0.7837\n",
      "Epoch 18/20\n",
      "6400/6400 [==============================] - 535s 84ms/sample - loss: 0.6137 - acc: 0.7620 - val_loss: 0.5466 - val_acc: 0.7906\n",
      "Epoch 19/20\n",
      "6400/6400 [==============================] - 536s 84ms/sample - loss: 0.5920 - acc: 0.7723 - val_loss: 0.5419 - val_acc: 0.7850\n",
      "Epoch 20/20\n",
      "6400/6400 [==============================] - 536s 84ms/sample - loss: 0.5916 - acc: 0.7666 - val_loss: 0.5296 - val_acc: 0.7925\n"
     ]
    }
   ],
   "source": [
    "history=model_final.fit(x_train, y_train,\n",
    "          batch_size=64,\n",
    "          epochs=20,\n",
    "          verbose=1,\n",
    "          validation_data=(x_test, y_test))"
   ]
  },
  {
   "cell_type": "code",
   "execution_count": 12,
   "metadata": {},
   "outputs": [],
   "source": [
    "score = model_final.evaluate(x_test, y_test, verbose=0)"
   ]
  },
  {
   "cell_type": "code",
   "execution_count": 13,
   "metadata": {},
   "outputs": [
    {
     "name": "stdout",
     "output_type": "stream",
     "text": [
      "Test loss: 0.5296034330129623\n",
      "Test accuracy: 0.7925\n"
     ]
    }
   ],
   "source": [
    "print('Test loss:', score[0])\n",
    "print('Test accuracy:', score[1])"
   ]
  },
  {
   "cell_type": "code",
   "execution_count": 14,
   "metadata": {},
   "outputs": [
    {
     "name": "stdout",
     "output_type": "stream",
     "text": [
      "dict_keys(['loss', 'acc', 'val_loss', 'val_acc'])\n"
     ]
    },
    {
     "data": {
      "image/png": "[encoded data removed]",
      "text/plain": [
       "<Figure size 432x288 with 1 Axes>"
      ]
     },
     "metadata": {
      "needs_background": "light"
     },
     "output_type": "display_data"
    },
    {
     "data": {
      "image/png": "[encoded data removed]",
      "text/plain": [
       "<Figure size 432x288 with 1 Axes>"
      ]
     },
     "metadata": {
      "needs_background": "light"
     },
     "output_type": "display_data"
    }
   ],
   "source": [
    "print(history.history.keys())\n",
    "\n",
    "plt.plot(history.history['acc'])\n",
    "plt.plot(history.history['val_acc'])\n",
    "plt.title('model accuracy')\n",
    "plt.ylabel('accuracy')\n",
    "plt.xlabel('epoch')\n",
    "plt.legend(['train', 'test'], loc='upper left')\n",
    "plt.show()\n",
    "\n",
    "plt.plot(history.history['loss'])\n",
    "plt.plot(history.history['val_loss'])\n",
    "plt.title('model loss')\n",
    "plt.ylabel('loss')\n",
    "plt.xlabel('epoch')\n",
    "plt.legend(['train', 'test'], loc='upper right')\n",
    "plt.show()"
   ]
  },
  {
   "cell_type": "code",
   "execution_count": 15,
   "metadata": {},
   "outputs": [
    {
     "data": {
      "text/plain": [
       "array([1.5076399e-01, 8.4796542e-01, 2.0625826e-05, 1.0299256e-05,\n",
       "       9.1472059e-05, 1.8686897e-05, 1.0630544e-03, 6.6472683e-05],\n",
       "      dtype=float32)"
      ]
     },
     "execution_count": 15,
     "metadata": {},
     "output_type": "execute_result"
    }
   ],
   "source": [
    "predictions=model_final.predict(x_test)\n",
    "predictions[10]"
   ]
  },
  {
   "cell_type": "code",
   "execution_count": 16,
   "metadata": {},
   "outputs": [
    {
     "data": {
      "text/plain": [
       "1"
      ]
     },
     "execution_count": 16,
     "metadata": {},
     "output_type": "execute_result"
    }
   ],
   "source": [
    "import numpy as np\n",
    "np.argmax(predictions[10])"
   ]
  },
  {
   "cell_type": "code",
   "execution_count": 17,
   "metadata": {},
   "outputs": [
    {
     "data": {
      "text/plain": [
       "array([0., 1., 0., 0., 0., 0., 0., 0.], dtype=float32)"
      ]
     },
     "execution_count": 17,
     "metadata": {},
     "output_type": "execute_result"
    }
   ],
   "source": [
    "y_test[10]"
   ]
  },
  {
   "cell_type": "code",
   "execution_count": null,
   "metadata": {},
   "outputs": [],
   "source": []
  }
 ],
 "metadata": {
  "kernelspec": {
   "display_name": "Python 3",
   "language": "python",
   "name": "python3"
  },
  "language_info": {
   "codemirror_mode": {
    "name": "ipython",
    "version": 3
   },
   "file_extension": ".py",
   "mimetype": "text/x-python",
   "name": "python",
   "nbconvert_exporter": "python",
   "pygments_lexer": "ipython3",
   "version": "3.7.3"
  }
 },
 "nbformat": 4,
 "nbformat_minor": 2
}
